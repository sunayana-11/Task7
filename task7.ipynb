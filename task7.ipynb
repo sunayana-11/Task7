{
 "cells": [
  {
   "cell_type": "code",
   "execution_count": 1,
   "id": "cb4031f2-ad89-4acd-bc89-5447cadc5200",
   "metadata": {},
   "outputs": [],
   "source": [
    "import sqlite3\n",
    "import pandas as pd\n",
    "import matplotlib.pyplot as plt"
   ]
  },
  {
   "cell_type": "code",
   "execution_count": 3,
   "id": "4a4dcb19-a931-4001-8391-f0ccbe884f9c",
   "metadata": {},
   "outputs": [],
   "source": [
    "# Connect to SQLite database (creates if not exists)\n",
    "conn = sqlite3.connect(\"sales_data.db\")\n",
    "cursor = conn.cursor()"
   ]
  },
  {
   "cell_type": "code",
   "execution_count": 4,
   "id": "c9dcc5b0-ba6b-4e31-bf59-d84d4fac4b93",
   "metadata": {},
   "outputs": [
    {
     "data": {
      "text/plain": [
       "<sqlite3.Cursor at 0x2048db381c0>"
      ]
     },
     "execution_count": 4,
     "metadata": {},
     "output_type": "execute_result"
    }
   ],
   "source": [
    "# Create sales table\n",
    "cursor.execute('''\n",
    "CREATE TABLE IF NOT EXISTS sales (\n",
    "    id INTEGER PRIMARY KEY,\n",
    "    product TEXT,\n",
    "    quantity INTEGER,\n",
    "    price REAL\n",
    ")\n",
    "''')"
   ]
  },
  {
   "cell_type": "code",
   "execution_count": 5,
   "id": "02218f64-13bb-4c44-bc02-9e864030e2ca",
   "metadata": {},
   "outputs": [],
   "source": [
    "# Insert sample data (skip if already inserted)\n",
    "sample_data = [\n",
    "    ('Apples', 10, 2.5),\n",
    "    ('Bananas', 20, 1.0),\n",
    "    ('Oranges', 15, 1.8),\n",
    "    ('Apples', 5, 2.5),\n",
    "    ('Bananas', 10, 1.0),\n",
    "    ('Oranges', 10, 1.8)\n",
    "]\n",
    "\n",
    "cursor.executemany(\"INSERT INTO sales (product, quantity, price) VALUES (?, ?, ?)\", sample_data)\n",
    "conn.commit()\n"
   ]
  },
  {
   "cell_type": "code",
   "execution_count": 6,
   "id": "75445fe7-e47d-4185-a222-45084d94c9dd",
   "metadata": {},
   "outputs": [],
   "source": [
    "query = \"\"\"\n",
    "SELECT \n",
    "    product, \n",
    "    SUM(quantity) AS total_qty, \n",
    "    SUM(quantity * price) AS revenue \n",
    "FROM sales \n",
    "GROUP BY product\n",
    "\"\"\"\n",
    "df = pd.read_sql_query(query, conn)\n"
   ]
  },
  {
   "cell_type": "code",
   "execution_count": 7,
   "id": "0d885320-89e3-48b0-b0a8-e1f85720f889",
   "metadata": {},
   "outputs": [
    {
     "name": "stdout",
     "output_type": "stream",
     "text": [
      "Sales Summary:\n",
      "   product  total_qty  revenue\n",
      "0   Apples         15     37.5\n",
      "1  Bananas         30     30.0\n",
      "2  Oranges         25     45.0\n"
     ]
    }
   ],
   "source": [
    "print(\"Sales Summary:\")\n",
    "print(df)"
   ]
  },
  {
   "cell_type": "code",
   "execution_count": 8,
   "id": "be273ebd-e96c-402e-b9dd-4f7c8da62120",
   "metadata": {},
   "outputs": [
    {
     "data": {
      "image/png": "[encoded data removed]",
      "text/plain": [
       "<Figure size 640x480 with 1 Axes>"
      ]
     },
     "metadata": {},
     "output_type": "display_data"
    }
   ],
   "source": [
    "df.plot(kind='bar', x='product', y='revenue', color='skyblue', legend=False)\n",
    "plt.title(\"Revenue by Product\")\n",
    "plt.ylabel(\"Revenue\")\n",
    "plt.tight_layout()\n",
    "plt.savefig(\"sales_chart.png\")  # Optional: Save the chart\n",
    "plt.show()"
   ]
  },
  {
   "cell_type": "code",
   "execution_count": 9,
   "id": "d3c0f66d-9a15-4690-b7b2-02caf46a4449",
   "metadata": {},
   "outputs": [],
   "source": [
    "conn.close()"
   ]
  },
  {
   "cell_type": "code",
   "execution_count": null,
   "id": "7213a7e7-8573-4c70-9aa4-14987f8095f7",
   "metadata": {},
   "outputs": [],
   "source": []
  }
 ],
 "metadata": {
  "kernelspec": {
   "display_name": "Python 3 (ipykernel)",
   "language": "python",
   "name": "python3"
  },
  "language_info": {
   "codemirror_mode": {
    "name": "ipython",
    "version": 3
   },
   "file_extension": ".py",
   "mimetype": "text/x-python",
   "name": "python",
   "nbconvert_exporter": "python",
   "pygments_lexer": "ipython3",
   "version": "3.11.7"
  }
 },
 "nbformat": 4,
 "nbformat_minor": 5
}
